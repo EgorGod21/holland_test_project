{
 "cells": [
  {
   "cell_type": "markdown",
   "id": "7d1ed961",
   "metadata": {},
   "source": [
    "### Собираем информацию с ВК"
   ]
  },
  {
   "cell_type": "code",
   "execution_count": null,
   "id": "30fdba70",
   "metadata": {},
   "outputs": [],
   "source": [
    "import time\n",
    "import pandas as pd\n",
    "from tqdm import tqdm\n",
    "from utils.vk_data_collector.vk_utils import get_vk_session, get_user_info, get_groups_items\n",
    "from config import ACCESS_TOKENS, VK_API_VERSION\n",
    "import random"
   ]
  },
  {
   "cell_type": "markdown",
   "id": "25e3a2b8",
   "metadata": {},
   "source": [
    "#### Собираем информацию о пользователях"
   ]
  },
  {
   "cell_type": "code",
   "execution_count": null,
   "id": "9584b32e",
   "metadata": {},
   "outputs": [],
   "source": [
    "df = pd.read_csv('data/data_Holland.csv', delimiter=';')\n",
    "df = df.drop(columns='completion_date').rename(columns={'1':'R', '2':'I', '3':'A', '4':'S', '5':'E', '6':'C', 'id':'user_id'})\n",
    "df = df.drop_duplicates(subset='user_id')\n",
    "vk = get_vk_session(ACCESS_TOKENS[0])"
   ]
  },
  {
   "cell_type": "code",
   "execution_count": null,
   "id": "5a476864",
   "metadata": {},
   "outputs": [
    {
     "name": "stderr",
     "output_type": "stream",
     "text": [
      "  0%|          | 10/3265 [00:03<19:35,  2.77it/s]\n"
     ]
    }
   ],
   "source": [
    "for i, row in tqdm(df.iterrows(), total=len(df)):\n",
    "    user_id = int(row['user_id'])\n",
    "    try:\n",
    "        user_info = get_user_info(user_id, vk)\n",
    "        df.at[i, 'sex'] = user_info['sex']\n",
    "        df.at[i, 'is_closed'] = user_info['is_closed']\n",
    "        df.at[i, 'deactivated'] = user_info['deactivated']\n",
    "        time.sleep(0.1)\n",
    "    except Exception as e:\n",
    "        print(f\"Error processing user {user_id}: {e}\")\n",
    "\n",
    "df.to_csv('data/RIASEC_NEW.csv', index=False, encoding='utf-8')"
   ]
  },
  {
   "cell_type": "markdown",
   "id": "338ab632",
   "metadata": {},
   "source": [
    "#### Собираем информацию о группах"
   ]
  },
  {
   "cell_type": "code",
   "execution_count": null,
   "id": "4af1b929",
   "metadata": {},
   "outputs": [
    {
     "name": "stderr",
     "output_type": "stream",
     "text": [
      "  0%|          | 10/2017 [00:07<26:42,  1.25it/s]\n"
     ]
    }
   ],
   "source": [
    "df = pd.read_csv('data/RIASEC_NEW.csv')\n",
    "df = df[df['is_closed'] == False]\n",
    "df_with_groups = pd.DataFrame(columns=['user_id', 'count', 'items'])\n",
    "\n",
    "for i, row in tqdm(df[:10].iterrows(), total=len(df)):\n",
    "    user_id = int(row['user_id'])\n",
    "    try:\n",
    "        items = get_groups_items(user_id, random.choice(ACCESS_TOKENS))\n",
    "        df_with_groups.at[i, 'user_id'] = user_id\n",
    "        df_with_groups.at[i, 'count'] = len(items)\n",
    "        df_with_groups.at[i, 'items'] = items\n",
    "        time.sleep(0.5)\n",
    "    except Exception as e:\n",
    "        print(f\"Error fetching groups for user {user_id}: {e}\")\n",
    "\n",
    "df_with_groups.to_csv('data/groups_new.csv', index=False)"
   ]
  },
  {
   "cell_type": "markdown",
   "id": "d8e89798",
   "metadata": {},
   "source": [
    "### Очищаем данные"
   ]
  },
  {
   "cell_type": "code",
   "execution_count": null,
   "id": "23c2cba3",
   "metadata": {},
   "outputs": [],
   "source": [
    "import pandas as pd\n",
    "from utils.vk_data_cleaner.group_processing import process_group_data"
   ]
  },
  {
   "cell_type": "code",
   "execution_count": 2,
   "id": "53973d9d",
   "metadata": {},
   "outputs": [],
   "source": [
    "df = pd.read_csv('data/groups_new.csv', sep=',')"
   ]
  },
  {
   "cell_type": "markdown",
   "id": "4b50d0b3",
   "metadata": {},
   "source": [
    "удаляем закрытые аккаунты и где групп меньше 10"
   ]
  },
  {
   "cell_type": "code",
   "execution_count": 3,
   "id": "08afa60f",
   "metadata": {},
   "outputs": [
    {
     "data": {
      "text/plain": [
       "1822"
      ]
     },
     "execution_count": 3,
     "metadata": {},
     "output_type": "execute_result"
    }
   ],
   "source": [
    "df = df[df['count'] >= 10]\n",
    "df.dropna(subset=['count'], inplace=True)\n",
    "df.reset_index(inplace=True, drop=True)\n",
    "len(df)"
   ]
  },
  {
   "cell_type": "code",
   "execution_count": null,
   "id": "9ff1b1f0",
   "metadata": {},
   "outputs": [
    {
     "name": "stderr",
     "output_type": "stream",
     "text": [
      "100%|██████████| 10/10 [00:00<00:00, 37.83it/s]\n"
     ]
    }
   ],
   "source": [
    "cleaned_df = process_group_data(df)"
   ]
  },
  {
   "cell_type": "code",
   "execution_count": null,
   "id": "38e7a3ac",
   "metadata": {},
   "outputs": [],
   "source": [
    "cleaned_df.to_csv('data/groups_cleaned_less_10_groups.csv', index=False)"
   ]
  },
  {
   "cell_type": "markdown",
   "id": "fdf078a4",
   "metadata": {},
   "source": [
    "### Укрупнение activity"
   ]
  },
  {
   "cell_type": "code",
   "execution_count": 21,
   "id": "f804c135",
   "metadata": {},
   "outputs": [],
   "source": [
    "import pandas as pd\n",
    "from utils.activity_mapper.activity_utils import load_topics\n",
    "from utils.vk_data_cleaner.consolidation_activities import consolidation_group_data"
   ]
  },
  {
   "cell_type": "code",
   "execution_count": 15,
   "id": "bea46e05",
   "metadata": {},
   "outputs": [],
   "source": [
    "df = pd.read_csv('data/groups_cleaned_less_10_groups.csv')\n",
    "combined_tems = load_topics('data/Topics.xlsx')"
   ]
  },
  {
   "cell_type": "code",
   "execution_count": null,
   "id": "3688065b",
   "metadata": {},
   "outputs": [
    {
     "name": "stderr",
     "output_type": "stream",
     "text": [
      "  0%|          | 0/15 [00:00<?, ?it/s]"
     ]
    },
    {
     "name": "stderr",
     "output_type": "stream",
     "text": [
      "100%|██████████| 15/15 [00:02<00:00,  5.28it/s]\n"
     ]
    }
   ],
   "source": [
    "df = consolidation_group_data(df, combined_tems)"
   ]
  },
  {
   "cell_type": "code",
   "execution_count": 18,
   "id": "ad669848",
   "metadata": {},
   "outputs": [],
   "source": [
    "activities = set()\n",
    "for i in range(len(df)):\n",
    "    for group in df.at[i, 'items']:\n",
    "        activities.add(group['enlarged_activity'])"
   ]
  },
  {
   "cell_type": "code",
   "execution_count": 20,
   "id": "b913494b",
   "metadata": {},
   "outputs": [
    {
     "name": "stdout",
     "output_type": "stream",
     "text": [
      "Уникальных enlarged_activity: 42\n"
     ]
    }
   ],
   "source": [
    "print(f'Уникальных enlarged_activity: {len(activities)}')"
   ]
  },
  {
   "cell_type": "code",
   "execution_count": null,
   "id": "7303cb9b",
   "metadata": {},
   "outputs": [],
   "source": [
    "df.to_csv('data/groups_cleaned_with_enlarged_activity_less_10_groups.csv', index=False)"
   ]
  },
  {
   "cell_type": "markdown",
   "id": "c144ab93",
   "metadata": {},
   "source": [
    "### Препроцессинг"
   ]
  },
  {
   "cell_type": "code",
   "execution_count": 1,
   "id": "a27b7c22",
   "metadata": {},
   "outputs": [],
   "source": [
    "import pandas as pd\n",
    "import ast\n",
    "from tqdm import tqdm\n",
    "from collections import Counter\n",
    "from utils.preprocessing.group_processing import process_group_data, combine_descriptions"
   ]
  },
  {
   "cell_type": "code",
   "execution_count": 2,
   "id": "873b48b0",
   "metadata": {},
   "outputs": [],
   "source": [
    "df = pd.read_csv('data/groups_cleaned_with_enlarged_activity_less_10_groups.csv')"
   ]
  },
  {
   "cell_type": "code",
   "execution_count": 3,
   "id": "b96fb827",
   "metadata": {},
   "outputs": [
    {
     "name": "stderr",
     "output_type": "stream",
     "text": [
      "100%|██████████| 1822/1822 [00:31<00:00, 57.76it/s]\n"
     ]
    }
   ],
   "source": [
    "activities = []\n",
    "for i in tqdm(range(len(df['items']))):\n",
    "  groups = ast.literal_eval(df.at[i, 'items'])\n",
    "  for group in groups:\n",
    "    activities.append(group['enlarged_activity'])"
   ]
  },
  {
   "cell_type": "code",
   "execution_count": 4,
   "id": "7fc1d23f",
   "metadata": {},
   "outputs": [
    {
     "data": {
      "text/plain": [
       "[('Развлечения', 64573),\n",
       " ('Увлечения и хобби', 50471),\n",
       " ('Красота, здоровье', 30634),\n",
       " ('Персона', 21100),\n",
       " ('Образование', 19057),\n",
       " ('Города, страны', 16275),\n",
       " ('Объединения, группы людей', 12104),\n",
       " ('Рестораны', 12049),\n",
       " ('Отношения, семья', 10847),\n",
       " ('Компьютер, интернет', 10314)]"
      ]
     },
     "execution_count": 4,
     "metadata": {},
     "output_type": "execute_result"
    }
   ],
   "source": [
    "Counter(activities).most_common(10)"
   ]
  },
  {
   "cell_type": "code",
   "execution_count": null,
   "id": "9c73c4fc",
   "metadata": {},
   "outputs": [
    {
     "name": "stderr",
     "output_type": "stream",
     "text": [
      "100%|██████████| 10/10 [00:05<00:00,  1.84it/s]\n"
     ]
    }
   ],
   "source": [
    "df = process_group_data(df)\n",
    "df = combine_descriptions(df)"
   ]
  },
  {
   "cell_type": "code",
   "execution_count": null,
   "id": "e1900d17",
   "metadata": {},
   "outputs": [],
   "source": [
    "df.to_csv('data/groups_for_llm_with_enlarged_activity_less_10_groups.csv', index=False)"
   ]
  },
  {
   "cell_type": "markdown",
   "id": "e96e1ea7",
   "metadata": {},
   "source": [
    "### Получение эмбеддингов"
   ]
  },
  {
   "cell_type": "code",
   "execution_count": 61,
   "id": "f842ae06",
   "metadata": {},
   "outputs": [],
   "source": [
    "from utils.embeddings.generate.generate_rubert import generate_rubert_embeddings\n",
    "from utils.embeddings.generate.generate_gigachat import generate_gigachat_embeddings\n",
    "from utils.embeddings.generate.generate_yandex import generate_yandex_embeddings"
   ]
  },
  {
   "cell_type": "code",
   "execution_count": null,
   "id": "46af4cdf",
   "metadata": {},
   "outputs": [
    {
     "name": "stderr",
     "output_type": "stream",
     "text": [
      "  0%|          | 9/1822 [00:43<2:48:33,  5.58s/it]"
     ]
    }
   ],
   "source": [
    "generate_rubert_embeddings(\"data/groups_for_llm_with_enlarged_activity_less_10_groups.csv\", \"data/embeddings/user_id_embeddings_bert.csv\")\n",
    "generate_gigachat_embeddings(\"data/groups_for_llm_with_enlarged_activity_less_10_groups.csv\", \"data/embeddings/user_id_embeddings_sber.csv\")\n",
    "generate_yandex_embeddings(\"data/groups_for_llm_with_enlarged_activity_less_10_groups.csv\", \"data/embeddings/user_id_embeddings_yandex.csv\")"
   ]
  },
  {
   "cell_type": "markdown",
   "id": "4a5329fb",
   "metadata": {},
   "source": [
    "### Уменьшение размерности"
   ]
  },
  {
   "cell_type": "code",
   "execution_count": 4,
   "id": "9beb94f6",
   "metadata": {},
   "outputs": [],
   "source": [
    "from utils.dimensionality.reduce_pca import reduce_embeddings_pca\n",
    "from utils.dimensionality.reduce_autoencoder import reduce_embeddings_autoencoder"
   ]
  },
  {
   "cell_type": "code",
   "execution_count": null,
   "id": "02c34bb6",
   "metadata": {},
   "outputs": [],
   "source": [
    "\n",
    "reduce_embeddings_pca(\n",
    "    folder_path=\"data/embeddings/\",\n",
    "    output_path=\"data/output/embeddings_pca/\"\n",
    ")\n",
    "\n",
    "reduce_embeddings_autoencoder(\n",
    "    folder_path=\"data/embeddings/\",\n",
    "    output_path=\"data/output/embeddings_autoencoded/\"\n",
    ")\n"
   ]
  },
  {
   "cell_type": "markdown",
   "id": "482df543",
   "metadata": {},
   "source": [
    "### Предсказание "
   ]
  },
  {
   "cell_type": "code",
   "execution_count": null,
   "id": "7e8e78b6",
   "metadata": {},
   "outputs": [],
   "source": [
    "import os\n",
    "from utils.models.hybrid_nn import train_and_predict as hybrid_nn_predict\n",
    "from utils.models.catboost_model import train_and_predict as catboost_predict\n",
    "from utils.models.xgboost_model import train_and_predict as xgboost_predict\n",
    "from utils.models.random_forest_model import train_and_predict as rf_predict\n",
    "from utils.models.utils import archive_output"
   ]
  },
  {
   "cell_type": "code",
   "execution_count": null,
   "id": "13f78ba9",
   "metadata": {},
   "outputs": [],
   "source": [
    "folder_paths = [\"data/output/pca_emb/\", \"data/output/autoencoder_emb/\"]\n",
    "output_dirs = [\"output/pca_emb/\", \"output/autoencoder_emb/\"]\n",
    "\n",
    "for folder_path, output_dir in zip(folder_paths, output_dirs):\n",
    "    os.makedirs(output_dir, exist_ok=True)\n",
    "    files = [f for f in os.listdir(folder_path) if f.endswith(\".csv\")]\n",
    "\n",
    "    for file in files:\n",
    "        file_path = os.path.join(folder_path, file)\n",
    "        output_path = os.path.join(output_dir, file)\n",
    "\n",
    "        print(f\"\\nProcessing {file_path}\")\n",
    "\n",
    "        hybrid_nn_predict(file_path, output_path)\n",
    "\n",
    "        catboost_predict(file_path, output_path)\n",
    "\n",
    "        xgboost_predict(file_path, output_path)\n",
    "\n",
    "        rf_predict(file_path, output_path)\n",
    "\n",
    "for output_dir in output_dirs:\n",
    "    archive_name = output_dir.replace(\"/\", \"_\").rstrip(\"_\")\n",
    "    archive_output(output_dir, archive_name)"
   ]
  },
  {
   "cell_type": "markdown",
   "id": "76312fa4",
   "metadata": {},
   "source": [
    "### Сравнение "
   ]
  },
  {
   "cell_type": "code",
   "execution_count": 1,
   "id": "5959be4d",
   "metadata": {},
   "outputs": [],
   "source": [
    "from utils.compare.evaluate_results import evaluate_models\n",
    "from utils.compare.visualize_results import plot_rmse_comparison, plot_matching_comparison"
   ]
  },
  {
   "cell_type": "code",
   "execution_count": null,
   "id": "668434e8",
   "metadata": {},
   "outputs": [],
   "source": [
    "results = evaluate_models()\n",
    "\n",
    "rmse_summary = {}\n",
    "for model, emb_methods in results.items():\n",
    "    rmse_summary[model] = {}\n",
    "    for emb_type, files in emb_methods.items():\n",
    "        for file_key, metrics in files.items():\n",
    "            if file_key not in rmse_summary[model]:\n",
    "                rmse_summary[model][file_key] = []\n",
    "            rmse_summary[model][file_key].append(metrics['RMSE_total'])\n",
    "\n",
    "number_of_matching_summary = {}\n",
    "for model, emb_methods in results.items():\n",
    "    number_of_matching_summary[model] = {}\n",
    "    for emb_type, files in emb_methods.items():\n",
    "        for file_key, metrics in files.items():\n",
    "            if file_key not in number_of_matching_summary[model]:\n",
    "                number_of_matching_summary[model][file_key] = []\n",
    "            number_of_matching_summary[model][file_key].append(metrics['number_of_matching_types'])\n",
    "\n",
    "plot_rmse_comparison(rmse_summary)\n",
    "plot_matching_comparison(number_of_matching_summary)"
   ]
  }
 ],
 "metadata": {
  "kernelspec": {
   "display_name": "Python 3",
   "language": "python",
   "name": "python3"
  },
  "language_info": {
   "codemirror_mode": {
    "name": "ipython",
    "version": 3
   },
   "file_extension": ".py",
   "mimetype": "text/x-python",
   "name": "python",
   "nbconvert_exporter": "python",
   "pygments_lexer": "ipython3",
   "version": "3.11.11"
  }
 },
 "nbformat": 4,
 "nbformat_minor": 5
}
